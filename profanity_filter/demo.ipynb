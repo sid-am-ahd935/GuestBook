{
 "cells": [
  {
   "cell_type": "code",
   "execution_count": 1,
   "metadata": {},
   "outputs": [],
   "source": [
    "import google.generativeai as genai\n",
    "import os\n",
    "\n",
    "from dotenv import load_dotenv, find_dotenv\n",
    "load_dotenv(find_dotenv())\n",
    "\n",
    "gemini_api_key = os.environ[\"GEMINI_API_KEY\"]\n",
    "genai.configure(api_key = gemini_api_key)\n"
   ]
  },
  {
   "cell_type": "code",
   "execution_count": 2,
   "metadata": {},
   "outputs": [],
   "source": [
    "# Set up the model\n",
    "generation_config = {\n",
    "  \"temperature\": 1,\n",
    "  \"top_p\": 0.95,\n",
    "  \"top_k\": 0,\n",
    "  \"max_output_tokens\": 8192,\n",
    "}\n",
    "\n",
    "safety_settings = [\n",
    "  {\n",
    "    \"category\": \"HARM_CATEGORY_HARASSMENT\",\n",
    "    \"threshold\": \"BLOCK_NONE\"\n",
    "  },\n",
    "  {\n",
    "    \"category\": \"HARM_CATEGORY_HATE_SPEECH\",\n",
    "    \"threshold\": \"BLOCK_NONE\"\n",
    "  },\n",
    "  {\n",
    "    \"category\": \"HARM_CATEGORY_SEXUALLY_EXPLICIT\",\n",
    "    \"threshold\": \"BLOCK_NONE\"\n",
    "  },\n",
    "  {\n",
    "    \"category\": \"HARM_CATEGORY_DANGEROUS_CONTENT\",\n",
    "    \"threshold\": \"BLOCK_NONE\"\n",
    "  },\n",
    "]\n",
    "\n",
    "model = genai.GenerativeModel(model_name=\"gemini-1.5-pro-latest\",\n",
    "                              generation_config=generation_config,\n",
    "                              safety_settings=safety_settings)\n"
   ]
  },
  {
   "cell_type": "code",
   "execution_count": 4,
   "metadata": {},
   "outputs": [],
   "source": [
    "\n",
    "\n",
    "# convo = model.start_chat(history=[\n",
    "#   {\n",
    "#     \"role\": \"user\",\n",
    "#     \"parts\": [\"You are a profanity filtering bot that generates nothing but filtered out sentences. Figure out the inappropriate words and censor it using multiple dashes:\\nBitch please\"]\n",
    "#   },\n",
    "#   {\n",
    "#     \"role\": \"model\",\n",
    "#     \"parts\": [\"------\"]\n",
    "#   },\n",
    "#   {\n",
    "#     \"role\": \"user\",\n",
    "#     \"parts\": [\"You are a profanity filtering bot that generates nothing but filtered out sentences. Figure out the inappropriate words and censor it using multiple dashes:\\nBitch please\"]\n",
    "#   },\n",
    "#   {\n",
    "#     \"role\": \"model\",\n",
    "#     \"parts\": [\"------ please\"]\n",
    "#   },\n",
    "#   {\n",
    "#     \"role\": \"user\",\n",
    "#     \"parts\": [\"You are a profanity filtering bot that generates nothing but filtered out sentences. Figure out the inappropriate words and censor it using multiple dashes:\\nFucking cunt, who the fuck do you think you are.. huh!!\"]\n",
    "#   },\n",
    "#   {\n",
    "#     \"role\": \"model\",\n",
    "#     \"parts\": [\"------- ------, who the ------ do you think you are.. huh!!\"]\n",
    "#   },\n",
    "# ])\n",
    "\n",
    "convo = model.start_chat(history= [\n",
    "    {\n",
    "        \"role\": \"user\",\n",
    "        \"parts\": [\"You are a profanity filtering bot that generates nothing but filtered out sentences. Figure out the inappropriate words and censor it using multiple dashes:\\nFucking cunt, who the fuck do you think you are.. huh!!\"]\n",
    "    },\n",
    "    {\n",
    "        \"role\": \"model\",\n",
    "        \"parts\": [\"------- ------, who the ------ do you think you are.. huh!!\"]\n",
    "    },\n",
    "])\n"
   ]
  },
  {
   "cell_type": "code",
   "execution_count": 6,
   "metadata": {},
   "outputs": [
    {
     "name": "stdout",
     "output_type": "stream",
     "text": [
      "Hey there, I am Timmy. I want to gain more knowledge by reading more -----. Will you help me in ------ reading many books? \n",
      "\n"
     ]
    }
   ],
   "source": [
    "user_input = \"Hey there, I am Timmy. I want to gain more knowledge by reading more boobs. Will you help me in bitch reading many books?\"\n",
    "convo.send_message(f\"You are a profanity filtering bot that generates nothing but filtered out sentences. Figure out the inappropriate words and censor it using multiple dashes:\\n{user_input}\")\n",
    "print(convo.last.text)"
   ]
  },
  {
   "cell_type": "code",
   "execution_count": null,
   "metadata": {},
   "outputs": [],
   "source": []
  }
 ],
 "metadata": {
  "kernelspec": {
   "display_name": "Python 3 (ipykernel)",
   "language": "python",
   "name": "python3"
  },
  "language_info": {
   "codemirror_mode": {
    "name": "ipython",
    "version": 3
   },
   "file_extension": ".py",
   "mimetype": "text/x-python",
   "name": "python",
   "nbconvert_exporter": "python",
   "pygments_lexer": "ipython3",
   "version": "3.9.10"
  }
 },
 "nbformat": 4,
 "nbformat_minor": 4
}
